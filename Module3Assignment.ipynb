{
 "cells": [
  {
   "cell_type": "code",
   "execution_count": 24,
   "metadata": {},
   "outputs": [
    {
     "name": "stdout",
     "output_type": "stream",
     "text": [
      "The Celsius equivalent of: 56.2 is: 13.44\n",
      "The Celsius equivalent of: 31.8 is: -0.11\n",
      "Your input is not a valid temperature, please input a temperature.\n",
      "The Celsius equivalent of: 81.7 is: 27.61\n",
      "The Celsius equivalent of: 45.6 is: 7.56\n",
      "The Celsius equivalent of: 71.3 is: 21.83\n",
      "Your input is not a valid temperature, please input a temperature.\n",
      "The Celsius equivalent of: 62.9 is: 17.17\n",
      "The Celsius equivalent of: 59.0 is: 15.0\n",
      "The Celsius equivalent of: 92.5 is: 33.61\n",
      "The Celsius equivalent of: 95.0 is: 35.0\n",
      "The Celsius equivalent of: 19.2 is: -7.11\n",
      "The Celsius equivalent of: 15.0 is: -9.44\n"
     ]
    }
   ],
   "source": [
    "temps = [56.2,31.8,'x',81.7,45.6,71.3,'this is text',62.9,59.0,92.5,95.0,19.2,15.0]\n",
    "## initiate for loop iteration of temps for farenheit\n",
    "for farenheit in temps:\n",
    "##initiate try and exception rules\n",
    "    try:\n",
    "## mathematical sequence for farenheit to celcius\n",
    "        C = float(round((((farenheit - 32.0) * 5/9)), 2))\n",
    "        print(\"The Celsius equivalent of:\", farenheit, \"is:\", C)\n",
    "    except:\n",
    "        print('Your input is not a valid temperature, please input a temperature.')\n",
    "## continue after the exception \n",
    "        continue\n",
    "    "
   ]
  },
  {
   "cell_type": "code",
   "execution_count": 21,
   "metadata": {},
   "outputs": [],
   "source": [
    "##Enhance by having the program iterate the data and skip the exceptions. if the data becomes more complex be sure to specify exceptions as to not snag. "
   ]
  },
  {
   "cell_type": "markdown",
   "metadata": {},
   "source": [
    "make sure to review the indentation before any additional modifications are made. "
   ]
  },
  {
   "cell_type": "code",
   "execution_count": 25,
   "metadata": {},
   "outputs": [
    {
     "ename": "NameError",
     "evalue": "name 'pick' is not defined",
     "output_type": "error",
     "traceback": [
      "\u001b[1;31m---------------------------------------------------------------------------\u001b[0m",
      "\u001b[1;31mNameError\u001b[0m                                 Traceback (most recent call last)",
      "\u001b[1;32m<ipython-input-25-e1d65fa62741>\u001b[0m in \u001b[0;36m<module>\u001b[1;34m\u001b[0m\n\u001b[0;32m      1\u001b[0m \u001b[0mx\u001b[0m \u001b[1;33m=\u001b[0m \u001b[1;33m[\u001b[0m\u001b[1;36m9\u001b[0m\u001b[1;33m,\u001b[0m\u001b[1;36m8\u001b[0m\u001b[1;33m,\u001b[0m\u001b[1;36m7\u001b[0m\u001b[1;33m,\u001b[0m\u001b[1;36m6\u001b[0m\u001b[1;33m,\u001b[0m\u001b[1;36m5\u001b[0m\u001b[1;33m,\u001b[0m\u001b[1;36m4\u001b[0m\u001b[1;33m,\u001b[0m\u001b[1;36m3\u001b[0m\u001b[1;33m,\u001b[0m\u001b[1;36m2\u001b[0m\u001b[1;33m,\u001b[0m\u001b[1;36m1\u001b[0m\u001b[1;33m]\u001b[0m\u001b[1;33m\u001b[0m\u001b[1;33m\u001b[0m\u001b[0m\n\u001b[1;32m----> 2\u001b[1;33m \u001b[0mx\u001b[0m \u001b[1;33m=\u001b[0m \u001b[0mpick\u001b[0m\u001b[1;33m(\u001b[0m\u001b[1;36m3\u001b[0m\u001b[1;33m,\u001b[0m\u001b[0mx\u001b[0m\u001b[1;33m)\u001b[0m\u001b[1;33m\u001b[0m\u001b[1;33m\u001b[0m\u001b[0m\n\u001b[0m\u001b[0;32m      3\u001b[0m \u001b[0mprint\u001b[0m\u001b[1;33m(\u001b[0m\u001b[0mx\u001b[0m\u001b[1;33m)\u001b[0m\u001b[1;33m\u001b[0m\u001b[1;33m\u001b[0m\u001b[0m\n",
      "\u001b[1;31mNameError\u001b[0m: name 'pick' is not defined"
     ]
    }
   ],
   "source": [
    "x = [9,8,7,6,5,4,3,2,1]\n",
    "x = pick(3,x)\n",
    "print(x)"
   ]
  },
  {
   "cell_type": "code",
   "execution_count": null,
   "metadata": {},
   "outputs": [],
   "source": []
  }
 ],
 "metadata": {
  "kernelspec": {
   "display_name": "Python 3",
   "language": "python",
   "name": "python3"
  },
  "language_info": {
   "codemirror_mode": {
    "name": "ipython",
    "version": 3
   },
   "file_extension": ".py",
   "mimetype": "text/x-python",
   "name": "python",
   "nbconvert_exporter": "python",
   "pygments_lexer": "ipython3",
   "version": "3.7.7"
  }
 },
 "nbformat": 4,
 "nbformat_minor": 4
}
